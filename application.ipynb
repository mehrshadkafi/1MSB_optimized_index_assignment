{
 "cells": [
  {
   "cell_type": "code",
   "execution_count": 6,
   "metadata": {},
   "outputs": [],
   "source": [
    "%reset -f"
   ]
  },
  {
   "cell_type": "code",
   "execution_count": 25,
   "metadata": {},
   "outputs": [
    {
     "data": {
      "text/plain": [
       "[<matplotlib.lines.Line2D at 0x7f7d9f2b2390>]"
      ]
     },
     "execution_count": 25,
     "metadata": {},
     "output_type": "execute_result"
    },
    {
     "data": {
      "image/png": "[encoded data removed]",
      "text/plain": [
       "<Figure size 432x288 with 1 Axes>"
      ]
     },
     "metadata": {
      "needs_background": "light"
     },
     "output_type": "display_data"
    }
   ],
   "source": [
    "import cv2\n",
    "import random\n",
    "import numpy as np\n",
    "import matplotlib.pyplot as plt\n",
    "from scipy.optimize import linprog\n",
    "\n",
    "img_file = 'lena512color.tiff'\n",
    "\n",
    "intensities = cv2.imread(img_file, cv2.IMREAD_GRAYSCALE)\n",
    "unique, counts = np.unique(intensities, return_counts=True)\n",
    "\n",
    "height = np.shape(intensities)[0]\n",
    "width = np.shape(intensities)[1]\n",
    "\n",
    "u = unique.copy()\n",
    "c = counts.copy()\n",
    "for i in range(0,unique[-1]+1):\n",
    "    if u[i] != i:\n",
    "        u = np.insert(u,i,i)\n",
    "        c = np.insert(c,i,0)\n",
    "\n",
    "z = np.zeros(255-unique[-1])\n",
    "all_counts = np.append(c,z)\n",
    "a = np.array(range(unique[-1]+1, 256))\n",
    "var = np.append(u,a)\n",
    "\n",
    "occurance_sum = sum(all_counts)\n",
    "prbs = all_counts/occurance_sum\n",
    "plt.plot(var, all_counts)"
   ]
  },
  {
   "cell_type": "code",
   "execution_count": 14,
   "metadata": {},
   "outputs": [],
   "source": [
    "cells_num = 256\n",
    "\n",
    "all_yijs = []\n",
    "all_dijs = []\n",
    "\n",
    "for i in range(0,cells_num-1):\n",
    "    for j in range(i+1,cells_num):\n",
    "# Strategy1: Eve knows the source statistics which is rare in image encrytion\n",
    "#         possible_yij = (var[i]*prbs[i]+var[j]*prbs[j])\\ \n",
    "#                        /(prbs[i]+prbs[j])\n",
    "\n",
    "# Strategy2: Eve knows the reconstruction value of each cell\n",
    "        possible_yij = (var[i]+var[j])/2\n",
    "        #possibel_yij = random.choice([var[i],var[j]])\n",
    "        \n",
    "    \n",
    "        all_yijs = np.append(all_yijs, possible_yij)\n",
    "        \n",
    "        possible_dij\\\n",
    "        = var[i]**2*prbs[i] + possible_yij**2*prbs[i] - possible_yij*2*var[i]*prbs[i]\\\n",
    "        + var[j]**2*prbs[j] + possible_yij**2*prbs[j] - possible_yij*2*var[j]*prbs[j]\n",
    "        all_dijs = np.append(all_dijs, possible_dij)\n",
    "\n",
    "# We implement the linear programming.\n",
    "obj_coef = -all_dijs\n",
    "all_length = int(cells_num * (cells_num-1) / 2)\n",
    "\n",
    "A_eq = np.zeros([cells_num, all_length])\n",
    "k = 0\n",
    "for i in range(0, cells_num-1):\n",
    "    for j in range(i+1,cells_num):\n",
    "        A_eq[i,k]=1\n",
    "        k+=1\n",
    "k = 0\n",
    "for j in range(1, cells_num):\n",
    "    for i in range (j,cells_num):\n",
    "        A_eq[i,k]=1\n",
    "        k+=1\n",
    "\n",
    "b_eq = np.ones([cells_num,])\n",
    "\n",
    "result = linprog(obj_coef, A_eq=A_eq, b_eq=b_eq)\n",
    "opt_xs = result.x\n",
    "opt_pairs = np.round(result.x) # Pairs\n",
    "opt_distortion = -result.fun # Value of the distortion"
   ]
  },
  {
   "cell_type": "code",
   "execution_count": 15,
   "metadata": {
    "scrolled": true
   },
   "outputs": [
    {
     "name": "stdout",
     "output_type": "stream",
     "text": [
      "[[  0   1   2   3   4   5   6   7   8   9  10  11  12  13  14  15  16  17\n",
      "   18  19  20  21  22  23  24  25  26  27  28  29  30  31  32  33  34  35\n",
      "   36  37  38  39  40  41  42  43  44  45  46  47  48  49  50  51  52  53\n",
      "   54  55  56  57  58  59  60  61  62  63  64  65  66  67  68  69  70  71\n",
      "   72  73  74  75  76  77  78  79  80  81  82  83  84  85  86  87  88  89\n",
      "   90  91  92  93  94  95  96  97  98  99 100 101 102 103 104 105 106 107\n",
      "  108 109 110 111 112 113 114 115 116 117 118 119 120 121 122 123 125 163\n",
      "  164 165]\n",
      " [124 127 126 128 130 131 129 132 133 134 135 138 140 141 144 139 137 143\n",
      "  136 142 146 145 147 148 149 151 152 150 247 153 250 243 154 240 155 248\n",
      "  244 246 241 235 234 156 157 158 159 160 161 216 162 225 217 223 209 228\n",
      "  226 231 222 215 221 210 219 238 237 232 224 233 236 229 218 220 204 211\n",
      "  205 227 203 213 214 207 230 212 251 242 252 254 255 253 249 239 245 208\n",
      "  206 200 199 198 194 197 191 187 193 176 172 179 169 175 178 185 186 184\n",
      "  180 192 189 182 183 171 177 173 195 196 202 188 201 190 181 174 170 168\n",
      "  167 166]]\n",
      "4251.215929053733\n",
      "[1.17516162e-11 1.18359219e-11 1.17314190e-11 ... 9.08212878e-12\n",
      " 9.00039866e-12 8.92182382e-12]\n",
      "[0. 0. 0. ... 0. 0. 0.]\n"
     ]
    },
    {
     "data": {
      "text/plain": [
       "'The results does not seem correct, then integer linear programming must be used'"
      ]
     },
     "execution_count": 15,
     "metadata": {},
     "output_type": "execute_result"
    }
   ],
   "source": [
    "k = 0\n",
    "xx = np.zeros([cells_num, cells_num])\n",
    "for i in range(0,cells_num):\n",
    "    for j in range(i+1,cells_num):\n",
    "        xx[i,j] = opt_pairs[k]\n",
    "        k +=1\n",
    "        \n",
    "lp_pairs_show = np.array(np.where(xx == 1))\n",
    "print(lp_pairs_show)         \n",
    "    \n",
    "        \n",
    "# xx = xx + np.transpose(xx)\n",
    "# yy = np.where(xx)\n",
    "# zz = np.append(yy[0],yy[1])\n",
    "# pairs = np.reshape(zz,[2,cells_num])\n",
    "# pairs = pairs[:,0:int(cells_num/2)]\n",
    "\n",
    "print(opt_distortion)\n",
    "print(opt_xs)\n",
    "print(opt_pairs)\n",
    "# print('\\n', pairs)\n",
    "'''The results does not seem correct, then integer linear programming must be used'''"
   ]
  },
  {
   "cell_type": "code",
   "execution_count": 17,
   "metadata": {},
   "outputs": [],
   "source": [
    "dual_xx = xx + np.transpose(xx)\n",
    "\n",
    "lp_enc_intens = np.zeros([height,width])\n",
    "for i in range(0,height):\n",
    "    for j in range(0,width):\n",
    "        true_val = intensities[i][j]\n",
    "        lp_pair_val = np.array(np.where(dual_xx[true_val]==1))\n",
    "        lp_paired_vals = [true_val, lp_pair_val]\n",
    "        lp_enc_intens[i][j] = random.choice(lp_paired_vals)"
   ]
  },
  {
   "cell_type": "code",
   "execution_count": 18,
   "metadata": {},
   "outputs": [
    {
     "name": "stdout",
     "output_type": "stream",
     "text": [
      "[[ 14  16  15 ... 101 105 104]\n",
      " [ 20  16  13 ...  99 103 102]\n",
      " [ 15  17  13 ... 101 100 102]\n",
      " ...\n",
      " [139 141 142 ...  77  78  79]\n",
      " [138 141 140 ...  74  77  79]\n",
      " [134 139 139 ...  75  75  79]]\n"
     ]
    },
    {
     "data": {
      "text/plain": [
       "-1"
      ]
     },
     "execution_count": 18,
     "metadata": {},
     "output_type": "execute_result"
    }
   ],
   "source": [
    "print(intensities)\n",
    "cv2.imshow('orig_image',intensities)\n",
    "cv2.waitKey(1000)\n",
    "filename = 'gray.bmp'\n",
    "cv2.imwrite(filename, lp_uint8)\n",
    "cv2.waitKey(1000)"
   ]
  },
  {
   "cell_type": "code",
   "execution_count": 19,
   "metadata": {},
   "outputs": [],
   "source": [
    "cv2.destroyAllWindows()"
   ]
  },
  {
   "cell_type": "code",
   "execution_count": 20,
   "metadata": {},
   "outputs": [
    {
     "data": {
      "text/plain": [
       "-1"
      ]
     },
     "execution_count": 20,
     "metadata": {},
     "output_type": "execute_result"
    }
   ],
   "source": [
    "lp_uint8 = lp_enc_intens.astype(np.uint8)\n",
    "cv2.imshow('lp_enc', lp_uint8)\n",
    "filename = 'lp_enc.bmp'\n",
    "cv2.imwrite(filename, lp_uint8)\n",
    "cv2.waitKey(1000)"
   ]
  },
  {
   "cell_type": "code",
   "execution_count": 21,
   "metadata": {},
   "outputs": [],
   "source": [
    "cv2.destroyAllWindows()"
   ]
  },
  {
   "cell_type": "code",
   "execution_count": 199,
   "metadata": {},
   "outputs": [
    {
     "data": {
      "text/plain": [
       "'Do not run this cell, it takes time'"
      ]
     },
     "execution_count": 199,
     "metadata": {},
     "output_type": "execute_result"
    }
   ],
   "source": [
    "from mip import Model, xsum, maximize, BINARY\n",
    "\n",
    "p = all_dijs\n",
    "w = A_eq\n",
    "c = 1\n",
    "I = range(np.shape(w)[1])\n",
    "\n",
    "m = Model('knapsack')\n",
    "\n",
    "x = [m.add_var(var_type=BINARY) for i in I]\n",
    "\n",
    "m.objective = maximize(xsum(p[i] * x[i] for i in I))\n",
    "\n",
    "for j in range (0,cells_num):\n",
    "    m += xsum(w[j][i] * x[i] for i in I) <= c\n",
    "\n",
    "opt_value = m.optimize()\n",
    "        \n",
    "        \n",
    "# mip_xx = mip_xx + np.transpose(mip_xx)\n",
    "# mip_yy = np.where(mip_xx)\n",
    "# mip_zz = np.append(mip_yy[0],mip_yy[1])\n",
    "# mip_pairs_show = np.reshape(mip_zz,[2,cells_num])\n",
    "# mip_pairs_show = mip_pairs_show[:,0:int(cells_num/2)]\n",
    "\n",
    "# print('\\n', mip_pairs_show)\n",
    "'''Do not run this cell, it takes time'''"
   ]
  },
  {
   "cell_type": "code",
   "execution_count": 201,
   "metadata": {},
   "outputs": [
    {
     "name": "stdout",
     "output_type": "stream",
     "text": [
      "4398.448774337769\n",
      "[[  0   1   2   3   4   5   6   7   8   9  10  11  12  13  14  15  16  17\n",
      "   18  19  20  21  22  23  24  25  26  27  28  29  30  31  32  33  34  35\n",
      "   36  37  38  39  40  41  42  43  44  45  46  47  48  49  50  51  52  53\n",
      "   54  55  56  57  58  59  60  61  62  63  64  65  66  67  68  69  70  71\n",
      "   72  73  74  75  76  77  78  79  80  81  82  83  84  85  86  87  88  89\n",
      "   90  91  92  93  94  95  96  97  98  99 100 101 102 103 104 105 106 107\n",
      "  108 109 110 111 112 113 114 115 117 118 119 120 121 122 123 124 125 126\n",
      "  127 128]\n",
      " [154 156 155 153 157 158 159 152 144 151 145 150 143 147 148 160 142 149\n",
      "  146 141 140 129 130 139 131 132 133 138 134 136 135 137 161 162 163 164\n",
      "  165 172 177 205 207 208 209 211 210 212 253 255 250 254 252 251 249 248\n",
      "  213 215 214 206 204 203 202 201 195 200 198 194 173 174 166 169 176 175\n",
      "  171 167 193 197 168 178 199 196 179 180 170 192 181 182 191 183 187 190\n",
      "  189 216 188 217 218 219 234 239 241 247 245 242 244 238 235 233 228 223\n",
      "  222 186 221 220 185 224 184 116 225 227 226 229 231 230 232 236 237 243\n",
      "  240 246]]\n"
     ]
    }
   ],
   "source": [
    "print(m.objective_value)\n",
    "selected = [i for i in I if x[i].x >= 0.99]\n",
    "# print('selected items: {}'.format(selected))\n",
    "\n",
    "mip_pairs = []\n",
    "for i in I:\n",
    "    mip_pair = x[i].x\n",
    "    mip_pairs = np.append(mip_pairs, mip_pair)\n",
    "    \n",
    "k = 0\n",
    "mip_xx = np.zeros([cells_num, cells_num])\n",
    "for i in range(0,cells_num):\n",
    "    for j in range(i+1,cells_num):\n",
    "        mip_xx[i,j] = mip_pairs[k]\n",
    "        k +=1\n",
    "        \n",
    "mip_pairs_show = np.array(np.where(mip_xx == 1))\n",
    "print(mip_pairs_show) "
   ]
  },
  {
   "cell_type": "code",
   "execution_count": 172,
   "metadata": {},
   "outputs": [
    {
     "name": "stdout",
     "output_type": "stream",
     "text": [
      "[[0 0 0 0 0 0 0 0 0 0 0 0 0 0 0 0 0 0 0 0 0 0 0 0 0 0 0 0 0 0 0 0 0 0 0 0\n",
      "  0 0 0 0 0 0 0 0 0 0 0 0 0 0 0 0 0 0 0 0 0 0 0 0 0 0 0 0 0 0 0 0 0 0 0 0\n",
      "  0 0 0 0 0 0 0 0 0 0 0 0 0 0 0 0 0 0 0 0 0 0 0 0 0 0 0 0 0 0 0 0 0 0 0 0\n",
      "  0 0 0 0 0 0 0 0 0 0 0 0 0 0 0 0 0 0 0 0]\n",
      " [0 0 0 0 0 0 0 0 0 0 0 0 0 0 0 0 0 0 0 0 0 0 0 0 0 0 0 0 0 0 0 0 0 0 0 0\n",
      "  0 0 0 0 0 0 0 0 0 0 0 0 0 0 0 0 0 0 0 0 0 0 0 0 0 0 0 0 0 0 0 0 0 0 0 0\n",
      "  0 0 0 0 0 0 0 0 0 0 0 0 0 0 0 0 0 0 0 0 0 0 0 0 0 0 0 0 0 0 0 0 0 0 0 0\n",
      "  0 0 0 0 0 0 0 0 0 0 0 0 0 0 0 0 0 0 0 0]]\n",
      "[0. 1.] [32512   128]\n",
      "[0. 1.] [32512   128]\n"
     ]
    }
   ],
   "source": [
    "print(mip_pairs_show-pairs)\n",
    "munique, mcounts = np.unique(mip_pairs, return_counts=True)\n",
    "print(munique, mcounts)\n",
    "lpunique, lpcounts = np.unique(opt_pairs, return_counts=True)\n",
    "print(lpunique, lpcounts)\n",
    "'''The results of linear programming was correct, then integer linear programming must be used'''"
   ]
  },
  {
   "cell_type": "code",
   "execution_count": 147,
   "metadata": {},
   "outputs": [
    {
     "ename": "NameError",
     "evalue": "name 'mip_xx' is not defined",
     "output_type": "error",
     "traceback": [
      "\u001b[0;31m---------------------------------------------------------------------------\u001b[0m",
      "\u001b[0;31mNameError\u001b[0m                                 Traceback (most recent call last)",
      "\u001b[0;32m<ipython-input-147-33d48b58aa6f>\u001b[0m in \u001b[0;36m<module>\u001b[0;34m\u001b[0m\n\u001b[0;32m----> 1\u001b[0;31m \u001b[0mdual_mip_xx\u001b[0m \u001b[0;34m=\u001b[0m \u001b[0mmip_xx\u001b[0m \u001b[0;34m+\u001b[0m \u001b[0mnp\u001b[0m\u001b[0;34m.\u001b[0m\u001b[0mtranspose\u001b[0m\u001b[0;34m(\u001b[0m\u001b[0mmip_xx\u001b[0m\u001b[0;34m)\u001b[0m\u001b[0;34m\u001b[0m\u001b[0;34m\u001b[0m\u001b[0m\n\u001b[0m\u001b[1;32m      2\u001b[0m \u001b[0;34m\u001b[0m\u001b[0m\n\u001b[1;32m      3\u001b[0m \u001b[0mmip_enc_intens\u001b[0m \u001b[0;34m=\u001b[0m \u001b[0mnp\u001b[0m\u001b[0;34m.\u001b[0m\u001b[0mzeros\u001b[0m\u001b[0;34m(\u001b[0m\u001b[0;34m[\u001b[0m\u001b[0mheight\u001b[0m\u001b[0;34m,\u001b[0m\u001b[0mwidth\u001b[0m\u001b[0;34m]\u001b[0m\u001b[0;34m)\u001b[0m\u001b[0;34m\u001b[0m\u001b[0;34m\u001b[0m\u001b[0m\n\u001b[1;32m      4\u001b[0m \u001b[0;32mfor\u001b[0m \u001b[0mi\u001b[0m \u001b[0;32min\u001b[0m \u001b[0mrange\u001b[0m\u001b[0;34m(\u001b[0m\u001b[0;36m0\u001b[0m\u001b[0;34m,\u001b[0m\u001b[0mheight\u001b[0m\u001b[0;34m)\u001b[0m\u001b[0;34m:\u001b[0m\u001b[0;34m\u001b[0m\u001b[0;34m\u001b[0m\u001b[0m\n\u001b[1;32m      5\u001b[0m     \u001b[0;32mfor\u001b[0m \u001b[0mj\u001b[0m \u001b[0;32min\u001b[0m \u001b[0mrange\u001b[0m\u001b[0;34m(\u001b[0m\u001b[0;36m0\u001b[0m\u001b[0;34m,\u001b[0m\u001b[0mwidth\u001b[0m\u001b[0;34m)\u001b[0m\u001b[0;34m:\u001b[0m\u001b[0;34m\u001b[0m\u001b[0;34m\u001b[0m\u001b[0m\n",
      "\u001b[0;31mNameError\u001b[0m: name 'mip_xx' is not defined"
     ]
    }
   ],
   "source": [
    "dual_mip_xx = mip_xx + np.transpose(mip_xx)\n",
    "\n",
    "mip_enc_intens = np.zeros([height,width])\n",
    "for i in range(0,height):\n",
    "    for j in range(0,width):\n",
    "        true_val = intensities[i][j]\n",
    "        pair_val = np.array(np.where(dual_mip_xx[true_val]==1))\n",
    "        paired_vals = [true_val, pair_val]\n",
    "        mip_enc_intens[i][j] = random.choice(paired_vals)"
   ]
  },
  {
   "cell_type": "code",
   "execution_count": 22,
   "metadata": {},
   "outputs": [],
   "source": [
    "nb_enc_intens = np.zeros([height,width])\n",
    "for i in range(0,height):\n",
    "    for j in range(0,width):\n",
    "        true_val = intensities[i][j]\n",
    "        if true_val <= 127:\n",
    "            nb_pair_val = true_val + 128 \n",
    "        else:\n",
    "            nb_pair_val = true_val - 128\n",
    "        nb_paired_vals = [true_val, nb_pair_val]\n",
    "        nb_enc_intens[i][j] = random.choice(nb_paired_vals)"
   ]
  },
  {
   "cell_type": "code",
   "execution_count": 23,
   "metadata": {},
   "outputs": [
    {
     "data": {
      "text/plain": [
       "-1"
      ]
     },
     "execution_count": 23,
     "metadata": {},
     "output_type": "execute_result"
    }
   ],
   "source": [
    "nb_uint8 = nb_enc_intens.astype(np.uint8)\n",
    "cv2.imshow('nb_enc', nb_uint8)\n",
    "filename = 'nb_enc.bmp'\n",
    "cv2.imwrite(filename, nb_uint8)\n",
    "cv2.waitKey(1000)"
   ]
  },
  {
   "cell_type": "code",
   "execution_count": 24,
   "metadata": {},
   "outputs": [],
   "source": [
    "cv2.destroyAllWindows()"
   ]
  },
  {
   "cell_type": "code",
   "execution_count": null,
   "metadata": {},
   "outputs": [],
   "source": []
  }
 ],
 "metadata": {
  "kernelspec": {
   "display_name": "Python 3",
   "language": "python",
   "name": "python3"
  },
  "language_info": {
   "codemirror_mode": {
    "name": "ipython",
    "version": 3
   },
   "file_extension": ".py",
   "mimetype": "text/x-python",
   "name": "python",
   "nbconvert_exporter": "python",
   "pygments_lexer": "ipython3",
   "version": "3.7.4"
  }
 },
 "nbformat": 4,
 "nbformat_minor": 2
}
