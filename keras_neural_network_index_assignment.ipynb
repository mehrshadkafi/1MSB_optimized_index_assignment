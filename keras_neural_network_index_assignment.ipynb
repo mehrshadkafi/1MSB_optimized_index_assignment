{
 "cells": [
  {
   "cell_type": "markdown",
   "metadata": {},
   "source": [
    "# Constants: We prepare the constants for distortion calculations."
   ]
  },
  {
   "cell_type": "code",
   "execution_count": null,
   "metadata": {},
   "outputs": [],
   "source": [
    "# 79-character line limit\n",
    "######### ######### ######### ######### ######### ######### ######### #########\n",
    "%reset -f\n",
    "\n",
    "import numpy as np # The NumPy library\n",
    "#import math # The math module, np includes it\n",
    "from scipy.integrate import quad # Method for integration in scipy.integrate sub-package\n",
    "\n",
    "\n",
    "cells_num = 4\n",
    "\n",
    "# The opitimized spaces for a Guassian distribution in a uniform quantizer(UQ).\n",
    "# The sizes are for UQs for number of cells: 4, 8, 16, 32, 64, 128, 256.\n",
    "all_size_gaus = np.array([0.9957, 0.5860, 0.3352, 0.1881, 0.1041, 0.0569, 0.0308])\n",
    "\n",
    "cell_size = all_size_gaus[int(np.log2(cells_num))-2]\n",
    "\n",
    "# np.arange has rounding error issue.\n",
    "# boundaries_symm = np.arange(-(cells_num/2-1) * cell_size, # For symmetric distributions\n",
    "#                              (cells_num/2) * cell_size,\n",
    "#                             cell_size) \n",
    "\n",
    "boundaries_symm = np.linspace(-(cells_num/2-1) * cell_size, # For symmetric distributions\n",
    "                               (cells_num/2-1) * cell_size,\n",
    "                              cells_num-1)\n",
    "n_inf = float(\"-inf\")\n",
    "p_inf = float(\"inf\")\n",
    "\n",
    "boundaries_symm = np.insert(boundaries_symm, 0, n_inf)\n",
    "boundaries_symm = np.append(boundaries_symm, p_inf)\n",
    "\n",
    "def pdf(x): # Defining the distribution\n",
    "    gaus_std = 1\n",
    "    gaus_mean = 0\n",
    "    pdf = 1/(gaus_std*np.sqrt(2*np.pi)) * \\\n",
    "                  np.exp(-0.5*((x-gaus_mean)/gaus_std)**2) # Gaussian pdf\n",
    "    return pdf\n",
    "\n",
    "def xpdf(x):\n",
    "    xpdf = x * pdf(x)\n",
    "    return xpdf\n",
    "\n",
    "def x2pdf (x):\n",
    "    x2pdf = x * xpdf(x)\n",
    "    return x2pdf\n",
    "\n",
    "prbs = []\n",
    "xprbs = []\n",
    "x2prbs = []\n",
    "cell_reps = []\n",
    "for i in range (0, cells_num):\n",
    "    cell_prb, integ_err = quad(pdf, boundaries_symm[i], boundaries_symm[i+1])\n",
    "    prbs = np.append(prbs, cell_prb)\n",
    "    \n",
    "    cell_xprb, integ_err = quad(xpdf, boundaries_symm[i], boundaries_symm[i+1])\n",
    "    xprbs = np.append(xprbs, cell_xprb)\n",
    "    \n",
    "    cell_x2prb, integ_err = quad(x2pdf, boundaries_symm[i], boundaries_symm[i+1])\n",
    "    x2prbs = np.append(x2prbs, cell_x2prb)\n",
    "    \n",
    "    cell_rep = cell_xprb / cell_prb\n",
    "    cell_reps = np.append(cell_reps, cell_rep)"
   ]
  },
  {
   "cell_type": "markdown",
   "metadata": {},
   "source": [
    "# Keras Implementation"
   ]
  },
  {
   "cell_type": "code",
   "execution_count": null,
   "metadata": {},
   "outputs": [],
   "source": [
    "# We use the Functional API option of Keras.\n",
    "\n",
    "from keras import models\n",
    "from keras import layers\n",
    "from keras import Input\n",
    "import keras.backend as K\n",
    "import tensorflow as tf\n",
    "\n",
    "l1_size = cells_num\n",
    "\n",
    "input_tensor = Input(shape=(cells_num,))\n",
    "l1_outs = layers.Dense(l1_size, activation = 'relu')(input_tensor)\n",
    "print(l1_outs.shape)\n",
    "l2_outs = layers.Dense(cells_num, activation = 'sigmoid')(l1_outs)\n",
    "\n",
    "# def make_indexes(x):\n",
    "#     raw_indexes = K.dot(x, cells_num)\n",
    "#     indexes = K.round(raw_indexes)\n",
    "#     for i in (0, cells_num-1):\n",
    "#         for j in (i+1, cells_num):\n",
    "#             if K.equal(indexes[i], indexes[j]):\n",
    "                \n",
    "#     return \n",
    "\n",
    "sorted_outs = layers.Lambda (sort_outs)(l2_outs)\n",
    "#def distortion ()\n"
   ]
  }
 ],
 "metadata": {
  "kernelspec": {
   "display_name": "Python 3",
   "language": "python",
   "name": "python3"
  },
  "language_info": {
   "codemirror_mode": {
    "name": "ipython",
    "version": 3
   },
   "file_extension": ".py",
   "mimetype": "text/x-python",
   "name": "python",
   "nbconvert_exporter": "python",
   "pygments_lexer": "ipython3",
   "version": "3.7.4"
  }
 },
 "nbformat": 4,
 "nbformat_minor": 2
}
