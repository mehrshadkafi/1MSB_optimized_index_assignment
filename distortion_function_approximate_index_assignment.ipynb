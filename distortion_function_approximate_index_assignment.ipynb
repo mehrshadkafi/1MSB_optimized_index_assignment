{
 "cells": [
  {
   "cell_type": "markdown",
   "metadata": {},
   "source": [
    "# Constants: We prepare the constants for distortion calculations."
   ]
  },
  {
   "cell_type": "code",
   "execution_count": null,
   "metadata": {},
   "outputs": [],
   "source": [
    "# 79-character line limit\n",
    "######### ######### ######### ######### ######### ######### ######### #########\n",
    "%reset -f\n",
    "\n",
    "import numpy as np # The NumPy library\n",
    "#import math # The math module, np includes it\n",
    "from scipy.integrate import quad # Method for integration in scipy.integrate sub-package\n",
    "\n",
    "\n",
    "cells_num = 4\n",
    "\n",
    "# The opitimized spaces for a Guassian distribution in a uniform quantizer(UQ).\n",
    "# The sizes are for UQs for number of cells: 4, 8, 16, 32, 64, 128, 256.\n",
    "all_size_gaus = np.array([0.9957, 0.5860, 0.3352, 0.1881, 0.1041, 0.0569, 0.0308])\n",
    "\n",
    "cell_size = all_size_gaus[int(np.log2(cells_num))-2]\n",
    "\n",
    "# np.arange has rounding error issue.\n",
    "# boundaries_symm = np.arange(-(cells_num/2-1) * cell_size, # For symmetric distributions\n",
    "#                              (cells_num/2) * cell_size,\n",
    "#                             cell_size) \n",
    "\n",
    "boundaries_symm = np.linspace(-(cells_num/2-1) * cell_size, # For symmetric distributions\n",
    "                               (cells_num/2-1) * cell_size,\n",
    "                              cells_num-1)\n",
    "n_inf = float(\"-inf\")\n",
    "p_inf = float(\"inf\")\n",
    "\n",
    "boundaries_symm = np.insert(boundaries_symm, 0, n_inf)\n",
    "boundaries_symm = np.append(boundaries_symm, p_inf)\n",
    "\n",
    "def pdf(x): # Defining the distribution\n",
    "    gaus_std = 1\n",
    "    gaus_mean = 0\n",
    "    pdf = 1/(gaus_std*np.sqrt(2*np.pi)) * \\\n",
    "                  np.exp(-0.5*((x-gaus_mean)/gaus_std)**2) # Gaussian pdf\n",
    "    return pdf\n",
    "\n",
    "def xpdf(x):\n",
    "    xpdf = x * pdf(x)\n",
    "    return xpdf\n",
    "\n",
    "def x2pdf (x):\n",
    "    x2pdf = x * xpdf(x)\n",
    "    return x2pdf\n",
    "\n",
    "prbs = []\n",
    "xprbs = []\n",
    "x2prbs = []\n",
    "cell_reps = []\n",
    "for i in range (0, cells_num):\n",
    "    cell_prb, integ_err = quad(pdf, boundaries_symm[i], boundaries_symm[i+1])\n",
    "    prbs = np.append(prbs, cell_prb)\n",
    "    \n",
    "    cell_xprb, integ_err = quad(xpdf, boundaries_symm[i], boundaries_symm[i+1])\n",
    "    xprbs = np.append(xprbs, cell_xprb)\n",
    "    \n",
    "    cell_x2prb, integ_err = quad(x2pdf, boundaries_symm[i], boundaries_symm[i+1])\n",
    "    x2prbs = np.append(x2prbs, cell_x2prb)\n",
    "    \n",
    "    cell_rep = cell_xprb / cell_prb\n",
    "    cell_reps = np.append(cell_reps, cell_rep)"
   ]
  },
  {
   "cell_type": "markdown",
   "metadata": {},
   "source": [
    "# Data Augmentation"
   ]
  },
  {
   "cell_type": "code",
   "execution_count": 1,
   "metadata": {},
   "outputs": [
    {
     "name": "stderr",
     "output_type": "stream",
     "text": [
      "Using TensorFlow backend.\n"
     ]
    },
    {
     "ename": "NameError",
     "evalue": "name 'np' is not defined",
     "output_type": "error",
     "traceback": [
      "\u001b[0;31m---------------------------------------------------------------------------\u001b[0m",
      "\u001b[0;31mNameError\u001b[0m                                 Traceback (most recent call last)",
      "\u001b[0;32m<ipython-input-1-201dfaf06fee>\u001b[0m in \u001b[0;36m<module>\u001b[0;34m\u001b[0m\n\u001b[1;32m      6\u001b[0m \u001b[0;34m\u001b[0m\u001b[0m\n\u001b[1;32m      7\u001b[0m \u001b[0;34m\u001b[0m\u001b[0m\n\u001b[0;32m----> 8\u001b[0;31m \u001b[0mprint\u001b[0m\u001b[0;34m(\u001b[0m\u001b[0mnp\u001b[0m\u001b[0;34m.\u001b[0m\u001b[0mmath\u001b[0m\u001b[0;34m.\u001b[0m\u001b[0mfactorial\u001b[0m\u001b[0;34m(\u001b[0m\u001b[0;36m4\u001b[0m\u001b[0;34m)\u001b[0m\u001b[0;34m)\u001b[0m\u001b[0;34m\u001b[0m\u001b[0;34m\u001b[0m\u001b[0m\n\u001b[0m\u001b[1;32m      9\u001b[0m \u001b[0;34m\u001b[0m\u001b[0m\n\u001b[1;32m     10\u001b[0m \u001b[0mdistortions\u001b[0m \u001b[0;34m=\u001b[0m \u001b[0;34m[\u001b[0m\u001b[0;34m]\u001b[0m\u001b[0;34m\u001b[0m\u001b[0;34m\u001b[0m\u001b[0m\n",
      "\u001b[0;31mNameError\u001b[0m: name 'np' is not defined"
     ]
    }
   ],
   "source": [
    "import random\n",
    "from keras import models\n",
    "from keras import layers\n",
    "from keras import Input\n",
    "from keras.utils import to_categorical\n",
    "\n",
    "\n",
    "print(np.math.factorial(4))\n",
    "\n",
    "distortions = []\n",
    "indexes_set = []\n",
    "\n",
    "for ii in range(0, 12):\n",
    "    indexes = random.sample(range(8), 8)\n",
    "    indexes = np.array(indexes)\n",
    "    \n",
    "    yijs = [] # Yijs based on the assigned indexes\n",
    "    dijs = []\n",
    "    for i in range(0, int(cells_num/2)):\n",
    "        j = i + cells_num/2\n",
    "        celli = np.where(indexes == i)\n",
    "        cellj = np.where(indexes == j)\n",
    "\n",
    "        yij = (xprbs[celli] + xprbs[cellj])/(prbs[celli] + prbs[cellj])\n",
    "        yijs = np.append(yijs, yij)\n",
    "\n",
    "        dij = x2prbs[celli] + yij**2 * prbs[celli] - yij *2 * xprbs[celli]\\\n",
    "            + x2prbs[cellj] + yij**2 * prbs[cellj] - yij *2 * xprbs[cellj]\n",
    "        dijs = np.append(dijs, dij)\n",
    "\n",
    "    distortion = np.round(sum(dijs), 16)\n",
    "    distortions = np.append(distortions, distortion)\n",
    "    indexes_set = np.append(indexes_set, indexes)\n",
    "    indexes_set = np.reshape(\n",
    "        indexes_set,(int(np.size(indexes_set)/cells_num), cells_num)) \n",
    "    \n",
    "print(distortions)\n",
    "print(indexes_set)\n",
    "\n"
   ]
  },
  {
   "cell_type": "code",
   "execution_count": null,
   "metadata": {},
   "outputs": [],
   "source": []
  }
 ],
 "metadata": {
  "kernelspec": {
   "display_name": "Python 3",
   "language": "python",
   "name": "python3"
  },
  "language_info": {
   "codemirror_mode": {
    "name": "ipython",
    "version": 3
   },
   "file_extension": ".py",
   "mimetype": "text/x-python",
   "name": "python",
   "nbconvert_exporter": "python",
   "pygments_lexer": "ipython3",
   "version": "3.7.4"
  }
 },
 "nbformat": 4,
 "nbformat_minor": 2
}
