{
 "cells": [
  {
   "cell_type": "code",
   "execution_count": 404,
   "metadata": {},
   "outputs": [],
   "source": [
    "%reset -f"
   ]
  },
  {
   "cell_type": "code",
   "execution_count": 405,
   "metadata": {},
   "outputs": [
    {
     "ename": "IndexError",
     "evalue": "tuple index out of range",
     "output_type": "error",
     "traceback": [
      "\u001b[0;31m---------------------------------------------------------------------------\u001b[0m",
      "\u001b[0;31mIndexError\u001b[0m                                Traceback (most recent call last)",
      "\u001b[0;32m<ipython-input-405-0498cf695961>\u001b[0m in \u001b[0;36m<module>\u001b[0;34m\u001b[0m\n\u001b[1;32m     10\u001b[0m \u001b[0munique\u001b[0m\u001b[0;34m,\u001b[0m \u001b[0mcounts\u001b[0m \u001b[0;34m=\u001b[0m \u001b[0mnp\u001b[0m\u001b[0;34m.\u001b[0m\u001b[0munique\u001b[0m\u001b[0;34m(\u001b[0m\u001b[0mintensities\u001b[0m\u001b[0;34m,\u001b[0m \u001b[0mreturn_counts\u001b[0m\u001b[0;34m=\u001b[0m\u001b[0;32mTrue\u001b[0m\u001b[0;34m)\u001b[0m\u001b[0;34m\u001b[0m\u001b[0;34m\u001b[0m\u001b[0m\n\u001b[1;32m     11\u001b[0m \u001b[0;34m\u001b[0m\u001b[0m\n\u001b[0;32m---> 12\u001b[0;31m \u001b[0mheight\u001b[0m \u001b[0;34m=\u001b[0m \u001b[0mnp\u001b[0m\u001b[0;34m.\u001b[0m\u001b[0mshape\u001b[0m\u001b[0;34m(\u001b[0m\u001b[0mintensities\u001b[0m\u001b[0;34m)\u001b[0m\u001b[0;34m[\u001b[0m\u001b[0;36m0\u001b[0m\u001b[0;34m]\u001b[0m\u001b[0;34m\u001b[0m\u001b[0;34m\u001b[0m\u001b[0m\n\u001b[0m\u001b[1;32m     13\u001b[0m \u001b[0mwidth\u001b[0m \u001b[0;34m=\u001b[0m \u001b[0mnp\u001b[0m\u001b[0;34m.\u001b[0m\u001b[0mshape\u001b[0m\u001b[0;34m(\u001b[0m\u001b[0mintensities\u001b[0m\u001b[0;34m)\u001b[0m\u001b[0;34m[\u001b[0m\u001b[0;36m1\u001b[0m\u001b[0;34m]\u001b[0m\u001b[0;34m\u001b[0m\u001b[0;34m\u001b[0m\u001b[0m\n\u001b[1;32m     14\u001b[0m \u001b[0;34m\u001b[0m\u001b[0m\n",
      "\u001b[0;31mIndexError\u001b[0m: tuple index out of range"
     ]
    }
   ],
   "source": [
    "import cv2\n",
    "import random\n",
    "import numpy as np\n",
    "import matplotlib.pyplot as plt\n",
    "from scipy.optimize import linprog\n",
    "\n",
    "img_file = '2.1.01.tiff'\n",
    "\n",
    "intensities = cv2.imread(img_file, cv2.IMREAD_GRAYSCALE)\n",
    "unique, counts = np.unique(intensities, return_counts=True)\n",
    "\n",
    "height = np.shape(intensities)[0]\n",
    "width = np.shape(intensities)[1]\n",
    "\n",
    "u = unique.copy()\n",
    "c = counts.copy()\n",
    "for i in range(0,unique[-1]+1):\n",
    "    if u[i] != i:\n",
    "        u = np.insert(u,i,i)\n",
    "        c = np.insert(c,i,0)\n",
    "\n",
    "z = np.zeros(255-unique[-1])\n",
    "all_counts = np.append(c,z)\n",
    "a = np.array(range(unique[-1]+1, 256))\n",
    "var = np.append(u,a)\n",
    "\n",
    "occurance_sum = sum(all_counts)\n",
    "prbs = all_counts/occurance_sum\n",
    "# plt.plot(var, all_counts)\n",
    "plt.plot(var, prbs)"
   ]
  },
  {
   "cell_type": "code",
   "execution_count": 394,
   "metadata": {},
   "outputs": [
    {
     "data": {
      "text/plain": [
       "-1"
      ]
     },
     "execution_count": 394,
     "metadata": {},
     "output_type": "execute_result"
    }
   ],
   "source": [
    "# print(intensities)\n",
    "cv2.imshow('orig_image',intensities)\n",
    "cv2.waitKey(1000)\n",
    "filename = '1.1.webp'\n",
    "cv2.imwrite(filename, intensities)\n",
    "cv2.waitKey(1000)"
   ]
  },
  {
   "cell_type": "code",
   "execution_count": 395,
   "metadata": {},
   "outputs": [],
   "source": [
    "cv2.destroyAllWindows()"
   ]
  },
  {
   "cell_type": "code",
   "execution_count": 396,
   "metadata": {},
   "outputs": [],
   "source": [
    "cells_num = 256\n",
    "\n",
    "all_yijs = []\n",
    "all_dijs = []\n",
    "all_prb0s = []\n",
    "for i in range(0,cells_num-1):\n",
    "    for j in range(i+1,cells_num):\n",
    "# Strategy1: Eve knows the source statistics which is rare in image encrytion\n",
    "#         possible_yij = (var[i]*prbs[i]+var[j]*prbs[j])\\ \n",
    "#                        /(prbs[i]+prbs[j])\n",
    "\n",
    "# Strategy2: Eve knows the reconstruction value of each cell\n",
    "        possible_yij = (var[i]+var[j])/2\n",
    "        #possibel_yij = random.choice([var[i],var[j]])\n",
    "        \n",
    "        all_yijs = np.append(all_yijs, possible_yij)\n",
    "        \n",
    "        possible_dij\\\n",
    "        = var[i]**2*prbs[i] + possible_yij**2*prbs[i] - possible_yij*2*var[i]*prbs[i]\\\n",
    "        + var[j]**2*prbs[j] + possible_yij**2*prbs[j] - possible_yij*2*var[j]*prbs[j]\n",
    "        all_dijs = np.append(all_dijs, possible_dij)\n",
    "        \n",
    "        possible_prb0 = max(prbs[j],prbs[i])\n",
    "        all_prb0s = np.append(all_prb0s, possible_prb0)"
   ]
  },
  {
   "cell_type": "markdown",
   "metadata": {},
   "source": [
    "# LP"
   ]
  },
  {
   "cell_type": "code",
   "execution_count": 402,
   "metadata": {},
   "outputs": [
    {
     "name": "stdout",
     "output_type": "stream",
     "text": [
      "36.16599416618452\n",
      "0.4404811919757082\n"
     ]
    }
   ],
   "source": [
    "'''For distortion and entropy, we implement the linear programming.'''\n",
    "Omega = 1\n",
    "Lambda = 100000000\n",
    "\n",
    "obj_coef = -Omega * all_dijs - Lambda * all_prb0s\n",
    "all_length = int(cells_num * (cells_num-1) / 2)\n",
    "\n",
    "A_eq = np.zeros([cells_num, all_length])\n",
    "k = 0\n",
    "for i in range(0, cells_num-1):\n",
    "    for j in range(i+1,cells_num):\n",
    "        A_eq[i,k]=1\n",
    "        k+=1\n",
    "k = 0\n",
    "for j in range(1, cells_num):\n",
    "    for i in range (j,cells_num):\n",
    "        A_eq[i,k]=1\n",
    "        k+=1\n",
    "\n",
    "b_eq = np.ones([cells_num,])\n",
    "\n",
    "result = linprog(obj_coef, A_eq=A_eq, b_eq=b_eq)\n",
    "opt_xs = result.x\n",
    "opt_pairs = np.round(result.x) # Pairs\n",
    "# opt_distortion = -result.fun # Value of the distortion\n",
    "\n",
    "opt_dijs = opt_pairs * all_dijs\n",
    "opt_distortion = sum(opt_dijs)\n",
    "opt_db = 10 * np.log10(opt_distortion)\n",
    "\n",
    "opt_prb0s = opt_pairs * all_prb0s\n",
    "opt_prb0 = sum(opt_prb0s)\n",
    "if opt_prb0 != 1 and opt_prb0 != 0:\n",
    "    opt_entropy = -opt_prb0 * np.log2(opt_prb0)-(1-opt_prb0)*np.log2(1-opt_prb0)\n",
    "else:\n",
    "    opt_entropy = 0\n",
    "\n",
    "# print(opt_distortion)\n",
    "print(opt_db)\n",
    "print(opt_entropy)"
   ]
  },
  {
   "cell_type": "code",
   "execution_count": 383,
   "metadata": {
    "scrolled": true
   },
   "outputs": [
    {
     "name": "stdout",
     "output_type": "stream",
     "text": [
      "[[  0   1   2   3   4   5   6   7   8   9  10  11  12  13  14  15  16  17\n",
      "   18  19  20  21  22  23  24  25  26  27  28  29  30  31  32  33  34  35\n",
      "   36  37  38  39  40  41  42  43  44  45  46  47  48  49  50  51  52  53\n",
      "   54  55  56  57  58  59  60  61  62  63  64  65  66  67  68  69  70  71\n",
      "   72  73  74  75  76  77  78  79  80  81  82  83  84  85  86  87  88  89\n",
      "   90  91  92  93  94  95  96  97 125 126 127 128 129 130 131 132 133 134\n",
      "  135 136 137 138 139 140 141 142 143 144 145 146 147 148 149 150 151 152]\n",
      " [198 199 197 200 196 201 195 202 203 194 204 193 205 192 191 206 190 189\n",
      "  188 207 187 186 185 179 178 180 182 177 183 181 184 208 176 175 174 163\n",
      "  173 162 172 165 164 167 166 171 170 161 160 168 169 159 209 158 157 210\n",
      "  156 155 154 211 153 212 213 214 215 216 217 218 219 220 221 222 223 224\n",
      "  225 226 227 124 123 122 121 120 119 118 117 116 115 114 113 112 111 110\n",
      "  105 103 109 102 106 108 104 107 228 229 230 231 232 233 234 235 236 237\n",
      "  238 239 240 241 242 243 244 245 246 247 248 249 250 251 252 253 254 255]]\n"
     ]
    }
   ],
   "source": [
    "k = 0\n",
    "xx = np.zeros([cells_num, cells_num])\n",
    "for i in range(0,cells_num):\n",
    "    for j in range(i+1,cells_num):\n",
    "        xx[i,j] = opt_pairs[k]\n",
    "        k +=1\n",
    "        \n",
    "lp_pairs_show = np.array(np.where(xx == 1))\n",
    "print(lp_pairs_show)         \n",
    "# print(opt_distortion)\n",
    "# print(opt_xs)\n",
    "# print(opt_pairs)\n",
    "# print('\\n', pairs)"
   ]
  },
  {
   "cell_type": "markdown",
   "metadata": {},
   "source": [
    "# LP MSB Plane"
   ]
  },
  {
   "cell_type": "code",
   "execution_count": 384,
   "metadata": {},
   "outputs": [
    {
     "data": {
      "text/plain": [
       "659.0"
      ]
     },
     "execution_count": 384,
     "metadata": {},
     "output_type": "execute_result"
    }
   ],
   "source": [
    "dual_xx = xx + np.transpose(xx)\n",
    "\n",
    "lp_msb_plane = np.zeros([height,width])\n",
    "for i in range(0,height):\n",
    "    for j in range(0,width):\n",
    "        true_val = intensities[i][j]\n",
    "        lp_pair_val = np.array(np.where(dual_xx[true_val]==1))\n",
    "        if all_counts[true_val] >= all_counts[lp_pair_val]:\n",
    "            lp_msb_plane[i][j] = 0\n",
    "        else:\n",
    "            lp_msb_plane[i][j] = 1\n",
    "            \n",
    "sum(sum(lp_msb_plane))"
   ]
  },
  {
   "cell_type": "code",
   "execution_count": 385,
   "metadata": {},
   "outputs": [
    {
     "data": {
      "text/plain": [
       "-1"
      ]
     },
     "execution_count": 385,
     "metadata": {},
     "output_type": "execute_result"
    }
   ],
   "source": [
    "# [cv2.IMWRITE_PNG_COMPRESSION, 9]\n",
    "\n",
    "lp_msb_plane255 = lp_msb_plane*255\n",
    "lp_msb_uint8 = lp_msb_plane255.astype(np.uint8)\n",
    "cv2.imshow('lp_msb_plane', lp_msb_uint8)\n",
    "filename = '2.4msb_255_lam1e3.webp'\n",
    "cv2.imwrite(filename, lp_msb_uint8)\n",
    "cv2.waitKey(1000)\n",
    "\n",
    "# lp_msb_plane255 = lp_msb_plane\n",
    "# lp_msb_uint8 = lp_msb_plane255.astype(np.uint8)\n",
    "# cv2.imshow('msb_plane', lp_msb_uint8)\n",
    "# filename = '1.1msb_lam1e4.webp'\n",
    "# cv2.imwrite(filename, lp_msb_uint8)\n",
    "# cv2.waitKey(1000)"
   ]
  },
  {
   "cell_type": "code",
   "execution_count": 386,
   "metadata": {},
   "outputs": [],
   "source": [
    "cv2.destroyAllWindows()"
   ]
  },
  {
   "cell_type": "markdown",
   "metadata": {},
   "source": [
    "# LP Encryption"
   ]
  },
  {
   "cell_type": "code",
   "execution_count": 17,
   "metadata": {},
   "outputs": [],
   "source": [
    "lp_enc_intens = np.zeros([height,width])\n",
    "for i in range(0,height):\n",
    "    for j in range(0,width):\n",
    "        true_val = intensities[i][j]\n",
    "        lp_pair_val = np.array(np.where(dual_xx[true_val]==1))\n",
    "        lp_paired_vals = [true_val, lp_pair_val]\n",
    "        lp_enc_intens[i][j] = random.choice(lp_paired_vals)"
   ]
  },
  {
   "cell_type": "code",
   "execution_count": 20,
   "metadata": {},
   "outputs": [
    {
     "data": {
      "text/plain": [
       "-1"
      ]
     },
     "execution_count": 20,
     "metadata": {},
     "output_type": "execute_result"
    }
   ],
   "source": [
    "lp_uint8 = lp_enc_intens.astype(np.uint8)\n",
    "cv2.imshow('lp_enc', lp_uint8)\n",
    "filename = 'lp_enc.bmp'\n",
    "cv2.imwrite(filename, lp_uint8)\n",
    "cv2.waitKey(1000)"
   ]
  },
  {
   "cell_type": "code",
   "execution_count": 21,
   "metadata": {},
   "outputs": [],
   "source": [
    "cv2.destroyAllWindows()"
   ]
  },
  {
   "cell_type": "markdown",
   "metadata": {},
   "source": [
    "# NBIA"
   ]
  },
  {
   "cell_type": "code",
   "execution_count": 356,
   "metadata": {},
   "outputs": [
    {
     "name": "stdout",
     "output_type": "stream",
     "text": [
      "\n",
      " 4096.0\n",
      "0.03499629583688607\n",
      "36.12359947967774\n"
     ]
    }
   ],
   "source": [
    "nb_all_yijs = []\n",
    "nb_all_dijs = []\n",
    "power = np.log2(cells_num)\n",
    "for i in range(0,int(cells_num/2)):\n",
    "    j = int(cells_num/2 + i)\n",
    "#     print(i,j)\n",
    "    nb_yij = (var[i]+var[j])/2\n",
    "    nb_all_yijs = np.append(nb_all_yijs, nb_yij)\n",
    "    \n",
    "    nb_dij\\\n",
    "        = var[i]**2*prbs[i] + nb_yij**2*prbs[i] - nb_yij*2*var[i]*prbs[i]\\\n",
    "        + var[j]**2*prbs[j] + nb_yij**2*prbs[j] - nb_yij*2*var[j]*prbs[j]\n",
    "    nb_all_dijs = np.append(nb_all_dijs, nb_dij)\n",
    "    \n",
    "nb_distortion = np.sum(nb_all_dijs)\n",
    "nb_db = 10 * np.log10(nb_distortion)\n",
    "\n",
    "nb_prb0s = prbs[0: int(cells_num/2)]  \n",
    "nb_prb0 = sum(nb_prb0s)\n",
    "nb_entropy = -nb_prb0*np.log2(nb_prb0)-(1-nb_prb0)*np.log2(1-nb_prb0)\n",
    "\n",
    "print('\\n',nb_distortion)\n",
    "print(nb_entropy)\n",
    "print(nb_db)"
   ]
  },
  {
   "cell_type": "markdown",
   "metadata": {},
   "source": [
    "# NB MSB Plane"
   ]
  },
  {
   "cell_type": "code",
   "execution_count": 357,
   "metadata": {},
   "outputs": [
    {
     "data": {
      "text/plain": [
       "1044725.0"
      ]
     },
     "execution_count": 357,
     "metadata": {},
     "output_type": "execute_result"
    }
   ],
   "source": [
    "nb_msb_plane = np.zeros([height,width])\n",
    "for i in range(0,height):\n",
    "    for j in range(0,width):\n",
    "        true_val = intensities[i][j]\n",
    "        if true_val <= 127:\n",
    "            nb_msb_plane[i][j] = 0 \n",
    "        else:\n",
    "            nb_msb_plane[i][j] = 1\n",
    "sum(sum(nb_msb_plane))"
   ]
  },
  {
   "cell_type": "code",
   "execution_count": 358,
   "metadata": {},
   "outputs": [
    {
     "data": {
      "text/plain": [
       "-1"
      ]
     },
     "execution_count": 358,
     "metadata": {},
     "output_type": "execute_result"
    }
   ],
   "source": [
    "nb_msb_plane255 = nb_msb_plane*255\n",
    "nb_msb_uint8 = nb_msb_plane255.astype(np.uint8)\n",
    "cv2.imshow('nb_msb', nb_msb_uint8)\n",
    "filename = '2.4nb_255.webp'\n",
    "cv2.imwrite(filename, nb_msb_uint8)\n",
    "cv2.waitKey(1000)\n",
    "\n",
    "# nb_msb_plane255 = nb_msb_plane\n",
    "# nb_msb_uint8 = nb_msb_plane255.astype(np.uint8)\n",
    "# cv2.imshow('nb1_msb_plane', nb_msb_uint8)\n",
    "# filename = '1.1nb.webp'\n",
    "# cv2.imwrite(filename, nb_msb_uint8)\n",
    "# cv2.waitKey(1000)"
   ]
  },
  {
   "cell_type": "code",
   "execution_count": 359,
   "metadata": {},
   "outputs": [],
   "source": [
    "cv2.destroyAllWindows()"
   ]
  },
  {
   "cell_type": "markdown",
   "metadata": {},
   "source": [
    "# NB Encryption"
   ]
  },
  {
   "cell_type": "code",
   "execution_count": 22,
   "metadata": {},
   "outputs": [],
   "source": [
    "nb_enc_intens = np.zeros([height,width])\n",
    "for i in range(0,height):\n",
    "    for j in range(0,width):\n",
    "        true_val = intensities[i][j]\n",
    "        if true_val <= 127:\n",
    "            nb_pair_val = true_val + 128 \n",
    "        else:\n",
    "            nb_pair_val = true_val - 128\n",
    "        nb_paired_vals = [true_val, nb_pair_val]\n",
    "        nb_enc_intens[i][j] = random.choice(nb_paired_vals)"
   ]
  },
  {
   "cell_type": "code",
   "execution_count": 23,
   "metadata": {},
   "outputs": [
    {
     "data": {
      "text/plain": [
       "-1"
      ]
     },
     "execution_count": 23,
     "metadata": {},
     "output_type": "execute_result"
    }
   ],
   "source": [
    "nb_uint8 = nb_enc_intens.astype(np.uint8)\n",
    "cv2.imshow('nb_enc', nb_uint8)\n",
    "filename = 'nb_enc.bmp'\n",
    "cv2.imwrite(filename, nb_uint8)\n",
    "cv2.waitKey(1000)"
   ]
  },
  {
   "cell_type": "markdown",
   "metadata": {},
   "source": [
    "# MIP"
   ]
  },
  {
   "cell_type": "code",
   "execution_count": 154,
   "metadata": {},
   "outputs": [
    {
     "data": {
      "text/plain": [
       "'Do not run this cell, it takes time'"
      ]
     },
     "execution_count": 154,
     "metadata": {},
     "output_type": "execute_result"
    }
   ],
   "source": [
    "from mip import Model, xsum, maximize, BINARY\n",
    "\n",
    "Omega = 0\n",
    "Lambda = 1\n",
    "p = Omega * all_dijs + Lambda * all_prb0s\n",
    "w = A_eq\n",
    "c = 1\n",
    "I = range(np.shape(w)[1])\n",
    "\n",
    "m = Model('knapsack')\n",
    "\n",
    "x = [m.add_var(var_type=BINARY) for i in I]\n",
    "\n",
    "m.objective = maximize(xsum(p[i] * x[i] for i in I))\n",
    "\n",
    "for j in range (0,cells_num):\n",
    "    m += xsum(w[j][i] * x[i] for i in I) <= c\n",
    "\n",
    "opt_value = m.optimize()\n",
    "        \n",
    "        \n",
    "# mip_xx = mip_xx + np.transpose(mip_xx)\n",
    "# mip_yy = np.where(mip_xx)\n",
    "# mip_zz = np.append(mip_yy[0],mip_yy[1])\n",
    "# mip_pairs_show = np.reshape(mip_zz,[2,cells_num])\n",
    "# mip_pairs_show = mip_pairs_show[:,0:int(cells_num/2)]\n",
    "\n",
    "# print('\\n', mip_pairs_show)\n",
    "'''Do not run this cell, it takes time'''"
   ]
  },
  {
   "cell_type": "code",
   "execution_count": 155,
   "metadata": {},
   "outputs": [
    {
     "name": "stdout",
     "output_type": "stream",
     "text": [
      "0.8568687438964844\n",
      "[[  0   1   2   3   4   5   6   7   8   9  10  11  12  13  14  15  16  17\n",
      "   18  19  20  21  22  23  24  25  26  27  28  29  30  31  32  33  34  35\n",
      "   36  37  38  46  47  48  49  50  52  53  54  55  56  57  58  59  60  61\n",
      "   62  63  65  66  67  68  69  70  71  72  73  74  76  77  78  79  80  83\n",
      "   84  85  87  88  89  90  91  92  93  95  96  97  98  99 100 101 102 103\n",
      "  112 113 115 116 117 118 119 120 121 122 123 124 125 126 127 136 137 142\n",
      "  143 144 145 146 147 148 149 150 151 152 153 154 155 156 157 161 163 166\n",
      "  193 196]\n",
      " [138 114 135 133  51 139 134 140 132  94 108 109 131 106 141 130  43 107\n",
      "   39  45  42 105  44 104 110  41  81  75 129 111 128  64  86  40  82 162\n",
      "  174 190 184 209 160 197 191 211 237 230 255 170 243 244 169 179 249 253\n",
      "  217 158 223 224 178 181 189 226 180 206 227 242 183 182 165 232 218 188\n",
      "  204 254 199 167 231 241 222 215 210 248 207 251 177 247 246 236 200 245\n",
      "  225 240 221 213 252 233 171 212 214 238 175 219 172 229 250 176 216 185\n",
      "  235 205 186 198 187 168 208 159 164 239 220 201 173 202 234 195 194 192\n",
      "  203 228]]\n"
     ]
    }
   ],
   "source": [
    "print(m.objective_value)\n",
    "selected = [i for i in I if x[i].x >= 0.99]\n",
    "# print('selected items: {}'.format(selected))\n",
    "\n",
    "mip_pairs = []\n",
    "for i in I:\n",
    "    mip_pair = x[i].x\n",
    "    mip_pairs = np.append(mip_pairs, mip_pair)\n",
    "    \n",
    "k = 0\n",
    "mip_xx = np.zeros([cells_num, cells_num])\n",
    "for i in range(0,cells_num):\n",
    "    for j in range(i+1,cells_num):\n",
    "        mip_xx[i,j] = mip_pairs[k]\n",
    "        k +=1\n",
    "        \n",
    "mip_pairs_show = np.array(np.where(mip_xx == 1))\n",
    "print(mip_pairs_show) "
   ]
  },
  {
   "cell_type": "code",
   "execution_count": 156,
   "metadata": {},
   "outputs": [
    {
     "name": "stdout",
     "output_type": "stream",
     "text": [
      "34.59736948580259\n",
      "0.5923809086421057\n"
     ]
    }
   ],
   "source": [
    "mip_pairs_01 = []\n",
    "for i in I:\n",
    "    mip_pairs_01 = np.append(mip_pairs_01, x[i].x)\n",
    "    \n",
    "mip_dijs = mip_pairs_01 * all_dijs\n",
    "mip_distortion = sum(mip_dijs)\n",
    "mip_db = 10 * np.log10(mip_distortion)\n",
    "\n",
    "mip_prb0s = mip_pairs_01 * all_prb0s\n",
    "mip_prb0 = sum(mip_prb0s)\n",
    "mip_entropy = -mip_prb0 * np.log2(mip_prb0)-(1-mip_prb0)*np.log2(1-mip_prb0)\n",
    "\n",
    "# print(opt_distortion)\n",
    "print(mip_db)\n",
    "print(mip_entropy)"
   ]
  },
  {
   "cell_type": "markdown",
   "metadata": {},
   "source": [
    "# MIP MSB plane"
   ]
  },
  {
   "cell_type": "code",
   "execution_count": 121,
   "metadata": {},
   "outputs": [],
   "source": [
    "dual_mip_xx = mip_xx + np.transpose(mip_xx)\n",
    "\n",
    "mip_msb_plane = np.zeros([height,width])\n",
    "for i in range(0,height):\n",
    "    for j in range(0,width):\n",
    "        true_val = intensities[i][j]\n",
    "        mip_pair_val = np.array(np.where(dual_mip_xx[true_val]==1))\n",
    "        if all_counts[true_val] >= all_counts[mip_pair_val]:\n",
    "            mip_msb_plane[i][j] = 0\n",
    "        else:\n",
    "            mip_msb_plane[i][j] = 1"
   ]
  },
  {
   "cell_type": "code",
   "execution_count": null,
   "metadata": {},
   "outputs": [],
   "source": [
    "# [cv2.IMWRITE_PNG_COMPRESSION, 9]\n",
    "\n",
    "mip_msb_plane255 = mip_msb_plane*255\n",
    "mip_msb_uint8 = mip_msb_plane255.astype(np.uint8)\n",
    "cv2.imshow('mip_msb_plane', mip_msb_uint8)\n",
    "filename = '1mip_msb_plane255_lam10000_comp9.png'\n",
    "cv2.imwrite(filename, lp_msb_uint8, [cv2.IMWRITE_PNG_COMPRESSION, 9])\n",
    "cv2.waitKey(1000)\n",
    "\n",
    "mip_msb_plane255 = mip_msb_plane\n",
    "mip_msb_uint8 = mip_msb_plane255.astype(np.uint8)\n",
    "cv2.imshow('mip_msb_plane', lp_msb_uint8)\n",
    "filename = '1mip_msb_plane_lam10000_comp9.png'\n",
    "cv2.imwrite(filename, lp_msb_uint8, [cv2.IMWRITE_PNG_COMPRESSION, 9])\n",
    "cv2.waitKey(1000)"
   ]
  },
  {
   "cell_type": "markdown",
   "metadata": {},
   "source": [
    "# MIP Encryption"
   ]
  },
  {
   "cell_type": "code",
   "execution_count": 147,
   "metadata": {},
   "outputs": [
    {
     "ename": "NameError",
     "evalue": "name 'mip_xx' is not defined",
     "output_type": "error",
     "traceback": [
      "\u001b[0;31m---------------------------------------------------------------------------\u001b[0m",
      "\u001b[0;31mNameError\u001b[0m                                 Traceback (most recent call last)",
      "\u001b[0;32m<ipython-input-147-33d48b58aa6f>\u001b[0m in \u001b[0;36m<module>\u001b[0;34m\u001b[0m\n\u001b[0;32m----> 1\u001b[0;31m \u001b[0mdual_mip_xx\u001b[0m \u001b[0;34m=\u001b[0m \u001b[0mmip_xx\u001b[0m \u001b[0;34m+\u001b[0m \u001b[0mnp\u001b[0m\u001b[0;34m.\u001b[0m\u001b[0mtranspose\u001b[0m\u001b[0;34m(\u001b[0m\u001b[0mmip_xx\u001b[0m\u001b[0;34m)\u001b[0m\u001b[0;34m\u001b[0m\u001b[0;34m\u001b[0m\u001b[0m\n\u001b[0m\u001b[1;32m      2\u001b[0m \u001b[0;34m\u001b[0m\u001b[0m\n\u001b[1;32m      3\u001b[0m \u001b[0mmip_enc_intens\u001b[0m \u001b[0;34m=\u001b[0m \u001b[0mnp\u001b[0m\u001b[0;34m.\u001b[0m\u001b[0mzeros\u001b[0m\u001b[0;34m(\u001b[0m\u001b[0;34m[\u001b[0m\u001b[0mheight\u001b[0m\u001b[0;34m,\u001b[0m\u001b[0mwidth\u001b[0m\u001b[0;34m]\u001b[0m\u001b[0;34m)\u001b[0m\u001b[0;34m\u001b[0m\u001b[0;34m\u001b[0m\u001b[0m\n\u001b[1;32m      4\u001b[0m \u001b[0;32mfor\u001b[0m \u001b[0mi\u001b[0m \u001b[0;32min\u001b[0m \u001b[0mrange\u001b[0m\u001b[0;34m(\u001b[0m\u001b[0;36m0\u001b[0m\u001b[0;34m,\u001b[0m\u001b[0mheight\u001b[0m\u001b[0;34m)\u001b[0m\u001b[0;34m:\u001b[0m\u001b[0;34m\u001b[0m\u001b[0;34m\u001b[0m\u001b[0m\n\u001b[1;32m      5\u001b[0m     \u001b[0;32mfor\u001b[0m \u001b[0mj\u001b[0m \u001b[0;32min\u001b[0m \u001b[0mrange\u001b[0m\u001b[0;34m(\u001b[0m\u001b[0;36m0\u001b[0m\u001b[0;34m,\u001b[0m\u001b[0mwidth\u001b[0m\u001b[0;34m)\u001b[0m\u001b[0;34m:\u001b[0m\u001b[0;34m\u001b[0m\u001b[0;34m\u001b[0m\u001b[0m\n",
      "\u001b[0;31mNameError\u001b[0m: name 'mip_xx' is not defined"
     ]
    }
   ],
   "source": [
    "dual_mip_xx = mip_xx + np.transpose(mip_xx)\n",
    "\n",
    "mip_enc_intens = np.zeros([height,width])\n",
    "for i in range(0,height):\n",
    "    for j in range(0,width):\n",
    "        true_val = intensities[i][j]\n",
    "        pair_val = np.array(np.where(dual_mip_xx[true_val]==1))\n",
    "        paired_vals = [true_val, pair_val]\n",
    "        mip_enc_intens[i][j] = random.choice(paired_vals)"
   ]
  },
  {
   "cell_type": "code",
   "execution_count": 95,
   "metadata": {},
   "outputs": [
    {
     "ename": "NameError",
     "evalue": "name 'pairs' is not defined",
     "output_type": "error",
     "traceback": [
      "\u001b[0;31m---------------------------------------------------------------------------\u001b[0m",
      "\u001b[0;31mNameError\u001b[0m                                 Traceback (most recent call last)",
      "\u001b[0;32m<ipython-input-95-a79ee4843649>\u001b[0m in \u001b[0;36m<module>\u001b[0;34m\u001b[0m\n\u001b[0;32m----> 1\u001b[0;31m \u001b[0mprint\u001b[0m\u001b[0;34m(\u001b[0m\u001b[0mmip_pairs_show\u001b[0m\u001b[0;34m-\u001b[0m\u001b[0mpairs\u001b[0m\u001b[0;34m)\u001b[0m\u001b[0;34m\u001b[0m\u001b[0;34m\u001b[0m\u001b[0m\n\u001b[0m\u001b[1;32m      2\u001b[0m \u001b[0mmunique\u001b[0m\u001b[0;34m,\u001b[0m \u001b[0mmcounts\u001b[0m \u001b[0;34m=\u001b[0m \u001b[0mnp\u001b[0m\u001b[0;34m.\u001b[0m\u001b[0munique\u001b[0m\u001b[0;34m(\u001b[0m\u001b[0mmip_pairs\u001b[0m\u001b[0;34m,\u001b[0m \u001b[0mreturn_counts\u001b[0m\u001b[0;34m=\u001b[0m\u001b[0;32mTrue\u001b[0m\u001b[0;34m)\u001b[0m\u001b[0;34m\u001b[0m\u001b[0;34m\u001b[0m\u001b[0m\n\u001b[1;32m      3\u001b[0m \u001b[0mprint\u001b[0m\u001b[0;34m(\u001b[0m\u001b[0mmunique\u001b[0m\u001b[0;34m,\u001b[0m \u001b[0mmcounts\u001b[0m\u001b[0;34m)\u001b[0m\u001b[0;34m\u001b[0m\u001b[0;34m\u001b[0m\u001b[0m\n\u001b[1;32m      4\u001b[0m \u001b[0mlpunique\u001b[0m\u001b[0;34m,\u001b[0m \u001b[0mlpcounts\u001b[0m \u001b[0;34m=\u001b[0m \u001b[0mnp\u001b[0m\u001b[0;34m.\u001b[0m\u001b[0munique\u001b[0m\u001b[0;34m(\u001b[0m\u001b[0mopt_pairs\u001b[0m\u001b[0;34m,\u001b[0m \u001b[0mreturn_counts\u001b[0m\u001b[0;34m=\u001b[0m\u001b[0;32mTrue\u001b[0m\u001b[0;34m)\u001b[0m\u001b[0;34m\u001b[0m\u001b[0;34m\u001b[0m\u001b[0m\n\u001b[1;32m      5\u001b[0m \u001b[0mprint\u001b[0m\u001b[0;34m(\u001b[0m\u001b[0mlpunique\u001b[0m\u001b[0;34m,\u001b[0m \u001b[0mlpcounts\u001b[0m\u001b[0;34m)\u001b[0m\u001b[0;34m\u001b[0m\u001b[0;34m\u001b[0m\u001b[0m\n",
      "\u001b[0;31mNameError\u001b[0m: name 'pairs' is not defined"
     ]
    }
   ],
   "source": [
    "print(mip_pairs_show-pairs)\n",
    "munique, mcounts = np.unique(mip_pairs, return_counts=True)\n",
    "print(munique, mcounts)\n",
    "lpunique, lpcounts = np.unique(opt_pairs, return_counts=True)\n",
    "print(lpunique, lpcounts)\n",
    "'''The results of linear programming was correct, then integer linear programming must be used'''"
   ]
  }
 ],
 "metadata": {
  "kernelspec": {
   "display_name": "Python 3",
   "language": "python",
   "name": "python3"
  },
  "language_info": {
   "codemirror_mode": {
    "name": "ipython",
    "version": 3
   },
   "file_extension": ".py",
   "mimetype": "text/x-python",
   "name": "python",
   "nbconvert_exporter": "python",
   "pygments_lexer": "ipython3",
   "version": "3.7.4"
  }
 },
 "nbformat": 4,
 "nbformat_minor": 2
}
