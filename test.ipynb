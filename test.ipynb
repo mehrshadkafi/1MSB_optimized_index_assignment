{
 "cells": [
  {
   "cell_type": "code",
   "execution_count": 1,
   "metadata": {},
   "outputs": [],
   "source": [
    "%reset -f"
   ]
  },
  {
   "cell_type": "code",
   "execution_count": 3,
   "metadata": {},
   "outputs": [],
   "source": [
    "import cv2\n",
    "import random\n",
    "import numpy as np\n",
    "import matplotlib.pyplot as plt\n",
    "from scipy.optimize import linprog"
   ]
  },
  {
   "cell_type": "code",
   "execution_count": 47,
   "metadata": {},
   "outputs": [],
   "source": [
    "rand_img = np.random.randint(255, size = [512,512])"
   ]
  },
  {
   "cell_type": "code",
   "execution_count": 67,
   "metadata": {},
   "outputs": [
    {
     "data": {
      "text/plain": [
       "-1"
      ]
     },
     "execution_count": 67,
     "metadata": {},
     "output_type": "execute_result"
    }
   ],
   "source": [
    "inten255 = np.zeros([512,512])+rand_img\n",
    "inten255u8 = inten255.astype(np.uint8)\n",
    "\n",
    "cv2.imshow('255', inten255u8)\n",
    "filename = '5rand.webp'\n",
    "cv2.imwrite(filename, inten255u8)\n",
    "cv2.waitKey(1000)"
   ]
  },
  {
   "cell_type": "code",
   "execution_count": 68,
   "metadata": {},
   "outputs": [],
   "source": [
    "cv2.destroyAllWindows()"
   ]
  },
  {
   "cell_type": "code",
   "execution_count": 20,
   "metadata": {},
   "outputs": [
    {
     "data": {
      "text/plain": [
       "-1"
      ]
     },
     "execution_count": 20,
     "metadata": {},
     "output_type": "execute_result"
    }
   ],
   "source": [
    "lp_uint8 = lp_enc_intens.astype(np.uint8)\n",
    "cv2.imshow('lp_enc', lp_uint8)\n",
    "filename = 'lp_enc.bmp'\n",
    "cv2.imwrite(filename, lp_uint8)\n",
    "cv2.waitKey(1000)"
   ]
  },
  {
   "cell_type": "code",
   "execution_count": 58,
   "metadata": {},
   "outputs": [],
   "source": [
    "cv2.destroyAllWindows()"
   ]
  },
  {
   "cell_type": "code",
   "execution_count": 199,
   "metadata": {},
   "outputs": [
    {
     "data": {
      "text/plain": [
       "'Do not run this cell, it takes time'"
      ]
     },
     "execution_count": 199,
     "metadata": {},
     "output_type": "execute_result"
    }
   ],
   "source": [
    "from mip import Model, xsum, maximize, BINARY\n",
    "\n",
    "p = all_dijs\n",
    "w = A_eq\n",
    "c = 1\n",
    "I = range(np.shape(w)[1])\n",
    "\n",
    "m = Model('knapsack')\n",
    "\n",
    "x = [m.add_var(var_type=BINARY) for i in I]\n",
    "\n",
    "m.objective = maximize(xsum(p[i] * x[i] for i in I))\n",
    "\n",
    "for j in range (0,cells_num):\n",
    "    m += xsum(w[j][i] * x[i] for i in I) <= c\n",
    "\n",
    "opt_value = m.optimize()\n",
    "        \n",
    "        \n",
    "# mip_xx = mip_xx + np.transpose(mip_xx)\n",
    "# mip_yy = np.where(mip_xx)\n",
    "# mip_zz = np.append(mip_yy[0],mip_yy[1])\n",
    "# mip_pairs_show = np.reshape(mip_zz,[2,cells_num])\n",
    "# mip_pairs_show = mip_pairs_show[:,0:int(cells_num/2)]\n",
    "\n",
    "# print('\\n', mip_pairs_show)\n",
    "'''Do not run this cell, it takes time'''"
   ]
  },
  {
   "cell_type": "code",
   "execution_count": 201,
   "metadata": {},
   "outputs": [
    {
     "name": "stdout",
     "output_type": "stream",
     "text": [
      "4398.448774337769\n",
      "[[  0   1   2   3   4   5   6   7   8   9  10  11  12  13  14  15  16  17\n",
      "   18  19  20  21  22  23  24  25  26  27  28  29  30  31  32  33  34  35\n",
      "   36  37  38  39  40  41  42  43  44  45  46  47  48  49  50  51  52  53\n",
      "   54  55  56  57  58  59  60  61  62  63  64  65  66  67  68  69  70  71\n",
      "   72  73  74  75  76  77  78  79  80  81  82  83  84  85  86  87  88  89\n",
      "   90  91  92  93  94  95  96  97  98  99 100 101 102 103 104 105 106 107\n",
      "  108 109 110 111 112 113 114 115 117 118 119 120 121 122 123 124 125 126\n",
      "  127 128]\n",
      " [154 156 155 153 157 158 159 152 144 151 145 150 143 147 148 160 142 149\n",
      "  146 141 140 129 130 139 131 132 133 138 134 136 135 137 161 162 163 164\n",
      "  165 172 177 205 207 208 209 211 210 212 253 255 250 254 252 251 249 248\n",
      "  213 215 214 206 204 203 202 201 195 200 198 194 173 174 166 169 176 175\n",
      "  171 167 193 197 168 178 199 196 179 180 170 192 181 182 191 183 187 190\n",
      "  189 216 188 217 218 219 234 239 241 247 245 242 244 238 235 233 228 223\n",
      "  222 186 221 220 185 224 184 116 225 227 226 229 231 230 232 236 237 243\n",
      "  240 246]]\n"
     ]
    }
   ],
   "source": [
    "print(m.objective_value)\n",
    "selected = [i for i in I if x[i].x >= 0.99]\n",
    "# print('selected items: {}'.format(selected))\n",
    "\n",
    "mip_pairs = []\n",
    "for i in I:\n",
    "    mip_pair = x[i].x\n",
    "    mip_pairs = np.append(mip_pairs, mip_pair)\n",
    "    \n",
    "k = 0\n",
    "mip_xx = np.zeros([cells_num, cells_num])\n",
    "for i in range(0,cells_num):\n",
    "    for j in range(i+1,cells_num):\n",
    "        mip_xx[i,j] = mip_pairs[k]\n",
    "        k +=1\n",
    "        \n",
    "mip_pairs_show = np.array(np.where(mip_xx == 1))\n",
    "print(mip_pairs_show) "
   ]
  },
  {
   "cell_type": "code",
   "execution_count": 172,
   "metadata": {},
   "outputs": [
    {
     "name": "stdout",
     "output_type": "stream",
     "text": [
      "[[0 0 0 0 0 0 0 0 0 0 0 0 0 0 0 0 0 0 0 0 0 0 0 0 0 0 0 0 0 0 0 0 0 0 0 0\n",
      "  0 0 0 0 0 0 0 0 0 0 0 0 0 0 0 0 0 0 0 0 0 0 0 0 0 0 0 0 0 0 0 0 0 0 0 0\n",
      "  0 0 0 0 0 0 0 0 0 0 0 0 0 0 0 0 0 0 0 0 0 0 0 0 0 0 0 0 0 0 0 0 0 0 0 0\n",
      "  0 0 0 0 0 0 0 0 0 0 0 0 0 0 0 0 0 0 0 0]\n",
      " [0 0 0 0 0 0 0 0 0 0 0 0 0 0 0 0 0 0 0 0 0 0 0 0 0 0 0 0 0 0 0 0 0 0 0 0\n",
      "  0 0 0 0 0 0 0 0 0 0 0 0 0 0 0 0 0 0 0 0 0 0 0 0 0 0 0 0 0 0 0 0 0 0 0 0\n",
      "  0 0 0 0 0 0 0 0 0 0 0 0 0 0 0 0 0 0 0 0 0 0 0 0 0 0 0 0 0 0 0 0 0 0 0 0\n",
      "  0 0 0 0 0 0 0 0 0 0 0 0 0 0 0 0 0 0 0 0]]\n",
      "[0. 1.] [32512   128]\n",
      "[0. 1.] [32512   128]\n"
     ]
    }
   ],
   "source": [
    "print(mip_pairs_show-pairs)\n",
    "munique, mcounts = np.unique(mip_pairs, return_counts=True)\n",
    "print(munique, mcounts)\n",
    "lpunique, lpcounts = np.unique(opt_pairs, return_counts=True)\n",
    "print(lpunique, lpcounts)\n",
    "'''The results of linear programming was correct, then integer linear programming must be used'''"
   ]
  },
  {
   "cell_type": "code",
   "execution_count": 147,
   "metadata": {},
   "outputs": [
    {
     "ename": "NameError",
     "evalue": "name 'mip_xx' is not defined",
     "output_type": "error",
     "traceback": [
      "\u001b[0;31m---------------------------------------------------------------------------\u001b[0m",
      "\u001b[0;31mNameError\u001b[0m                                 Traceback (most recent call last)",
      "\u001b[0;32m<ipython-input-147-33d48b58aa6f>\u001b[0m in \u001b[0;36m<module>\u001b[0;34m\u001b[0m\n\u001b[0;32m----> 1\u001b[0;31m \u001b[0mdual_mip_xx\u001b[0m \u001b[0;34m=\u001b[0m \u001b[0mmip_xx\u001b[0m \u001b[0;34m+\u001b[0m \u001b[0mnp\u001b[0m\u001b[0;34m.\u001b[0m\u001b[0mtranspose\u001b[0m\u001b[0;34m(\u001b[0m\u001b[0mmip_xx\u001b[0m\u001b[0;34m)\u001b[0m\u001b[0;34m\u001b[0m\u001b[0;34m\u001b[0m\u001b[0m\n\u001b[0m\u001b[1;32m      2\u001b[0m \u001b[0;34m\u001b[0m\u001b[0m\n\u001b[1;32m      3\u001b[0m \u001b[0mmip_enc_intens\u001b[0m \u001b[0;34m=\u001b[0m \u001b[0mnp\u001b[0m\u001b[0;34m.\u001b[0m\u001b[0mzeros\u001b[0m\u001b[0;34m(\u001b[0m\u001b[0;34m[\u001b[0m\u001b[0mheight\u001b[0m\u001b[0;34m,\u001b[0m\u001b[0mwidth\u001b[0m\u001b[0;34m]\u001b[0m\u001b[0;34m)\u001b[0m\u001b[0;34m\u001b[0m\u001b[0;34m\u001b[0m\u001b[0m\n\u001b[1;32m      4\u001b[0m \u001b[0;32mfor\u001b[0m \u001b[0mi\u001b[0m \u001b[0;32min\u001b[0m \u001b[0mrange\u001b[0m\u001b[0;34m(\u001b[0m\u001b[0;36m0\u001b[0m\u001b[0;34m,\u001b[0m\u001b[0mheight\u001b[0m\u001b[0;34m)\u001b[0m\u001b[0;34m:\u001b[0m\u001b[0;34m\u001b[0m\u001b[0;34m\u001b[0m\u001b[0m\n\u001b[1;32m      5\u001b[0m     \u001b[0;32mfor\u001b[0m \u001b[0mj\u001b[0m \u001b[0;32min\u001b[0m \u001b[0mrange\u001b[0m\u001b[0;34m(\u001b[0m\u001b[0;36m0\u001b[0m\u001b[0;34m,\u001b[0m\u001b[0mwidth\u001b[0m\u001b[0;34m)\u001b[0m\u001b[0;34m:\u001b[0m\u001b[0;34m\u001b[0m\u001b[0;34m\u001b[0m\u001b[0m\n",
      "\u001b[0;31mNameError\u001b[0m: name 'mip_xx' is not defined"
     ]
    }
   ],
   "source": [
    "dual_mip_xx = mip_xx + np.transpose(mip_xx)\n",
    "\n",
    "mip_enc_intens = np.zeros([height,width])\n",
    "for i in range(0,height):\n",
    "    for j in range(0,width):\n",
    "        true_val = intensities[i][j]\n",
    "        pair_val = np.array(np.where(dual_mip_xx[true_val]==1))\n",
    "        paired_vals = [true_val, pair_val]\n",
    "        mip_enc_intens[i][j] = random.choice(paired_vals)"
   ]
  },
  {
   "cell_type": "code",
   "execution_count": 22,
   "metadata": {},
   "outputs": [],
   "source": [
    "nb_enc_intens = np.zeros([height,width])\n",
    "for i in range(0,height):\n",
    "    for j in range(0,width):\n",
    "        true_val = intensities[i][j]\n",
    "        if true_val <= 127:\n",
    "            nb_pair_val = true_val + 128 \n",
    "        else:\n",
    "            nb_pair_val = true_val - 128\n",
    "        nb_paired_vals = [true_val, nb_pair_val]\n",
    "        nb_enc_intens[i][j] = random.choice(nb_paired_vals)"
   ]
  },
  {
   "cell_type": "code",
   "execution_count": 23,
   "metadata": {},
   "outputs": [
    {
     "data": {
      "text/plain": [
       "-1"
      ]
     },
     "execution_count": 23,
     "metadata": {},
     "output_type": "execute_result"
    }
   ],
   "source": [
    "nb_uint8 = nb_enc_intens.astype(np.uint8)\n",
    "cv2.imshow('nb_enc', nb_uint8)\n",
    "filename = 'nb_enc.bmp'\n",
    "cv2.imwrite(filename, nb_uint8)\n",
    "cv2.waitKey(1000)"
   ]
  },
  {
   "cell_type": "code",
   "execution_count": 24,
   "metadata": {},
   "outputs": [],
   "source": [
    "cv2.destroyAllWindows()"
   ]
  },
  {
   "cell_type": "code",
   "execution_count": null,
   "metadata": {},
   "outputs": [],
   "source": []
  }
 ],
 "metadata": {
  "kernelspec": {
   "display_name": "Python 3",
   "language": "python",
   "name": "python3"
  },
  "language_info": {
   "codemirror_mode": {
    "name": "ipython",
    "version": 3
   },
   "file_extension": ".py",
   "mimetype": "text/x-python",
   "name": "python",
   "nbconvert_exporter": "python",
   "pygments_lexer": "ipython3",
   "version": "3.7.4"
  }
 },
 "nbformat": 4,
 "nbformat_minor": 2
}
